{
 "cells": [
  {
   "cell_type": "markdown",
   "id": "356cb1f8-7753-4bf6-8229-b7d548a04d73",
   "metadata": {},
   "source": [
    "# Create a Python program that implements a singly linked list using Object-Oriented Programming (OOP) principles. Your implementation should include the following: A Node class to represent each node in the list. A LinkedList class to manage the nodes, with methods to: Add a node to the end of the list Print the list Delete the nth node (where n is a 1-based index) Include exception handling to manage edge cases such as: Deleting a node from an empty list Deleting a node with an index out of range Test your implementation with at least one sample list."
   ]
  },
  {
   "cell_type": "code",
   "execution_count": null,
   "id": "ee0459d3-3a54-409b-93af-005fb9057d2e",
   "metadata": {},
   "outputs": [],
   "source": []
  },
  {
   "cell_type": "code",
   "execution_count": 6,
   "id": "6a76a962-8e89-43d7-9441-dee07675c064",
   "metadata": {},
   "outputs": [],
   "source": [
    "class Node:\n",
    "    def __init__(self, data):\n",
    "        self.data = data\n",
    "        self.next = None\n",
    "class LinkedList:\n",
    "    def __init__(self):\n",
    "        self.head = None\n",
    "\n",
    "    def add_node(self, data):\n",
    "        \"\"\"Adds a node to the end of the linked list\"\"\"\n",
    "        new_node = Node(data)\n",
    "        if not self.head:\n",
    "            self.head = new_node\n",
    "            print(f\"Added {data} as head node.\")\n",
    "            return\n",
    "        current = self.head\n",
    "        while current.next:\n",
    "            current = current.next\n",
    "        current.next = new_node\n",
    "        print(f\"Added {data} to the end of the list.\")\n",
    "\n",
    "    def print_list(self):\n",
    "        \"\"\"Prints the entire linked list\"\"\"\n",
    "        current = self.head\n",
    "        if not current:\n",
    "            print(\"List is empty.\")\n",
    "            return\n",
    "        print(\"Linked List:\", end=\" \")\n",
    "        while current:\n",
    "            print(current.data, end=\" -> \")\n",
    "            current = current.next\n",
    "        print(\"None\")\n",
    "\n",
    "    def delete_nth_node(self, n):\n",
    "        \"\"\"Deletes the nth node (1-based index) from the linked list\"\"\"\n",
    "        if not self.head:\n",
    "            raise IndexError(\"Cannot delete from an empty list.\")\n",
    "        if n <= 0:\n",
    "            raise IndexError(\"Index must be greater than 0.\")\n",
    "\n",
    "        if n == 1:\n",
    "            print(f\"Deleted head node with value {self.head.data}.\")\n",
    "            self.head = self.head.next\n",
    "            return\n",
    "\n",
    "        current = self.head\n",
    "        count = 1\n",
    "        prev = None\n",
    "\n",
    "        while current and count < n:\n",
    "            prev = current\n",
    "            current = current.next\n",
    "            count += 1\n",
    "\n",
    "        if not current:\n",
    "            raise IndexError(\"Index out of range.\")\n",
    "\n",
    "        print(f\"Deleted node at position {n} with value {current.data}.\")\n",
    "        prev.next = current.next\n"
   ]
  },
  {
   "cell_type": "code",
   "execution_count": 7,
   "id": "0b2f6b78-9e62-486e-bb6f-a056261e2aba",
   "metadata": {},
   "outputs": [
    {
     "name": "stdout",
     "output_type": "stream",
     "text": [
      "Added 10 as head node.\n",
      "Added 20 to the end of the list.\n",
      "Added 30 to the end of the list.\n",
      "Added 40 to the end of the list.\n",
      "Linked List: 10 -> 20 -> 30 -> 40 -> None\n"
     ]
    }
   ],
   "source": [
    "#Create and test linkedlist\n",
    "ll = LinkedList()\n",
    "\n",
    "# Adding nodes\n",
    "ll.add_node(10)\n",
    "ll.add_node(20)\n",
    "ll.add_node(30)\n",
    "ll.add_node(40)\n",
    "\n",
    "# Print list\n",
    "ll.print_list()"
   ]
  },
  {
   "cell_type": "code",
   "execution_count": 8,
   "id": "c52e5645-390f-41bb-b2d3-1a36c59c0fc3",
   "metadata": {},
   "outputs": [
    {
     "name": "stdout",
     "output_type": "stream",
     "text": [
      "Deleted node at position 2 with value 20.\n",
      "Linked List: 10 -> 30 -> 40 -> None\n",
      "Deleted head node with value 10.\n",
      "Linked List: 30 -> 40 -> None\n",
      "Error: Index out of range.\n",
      "Error: Cannot delete from an empty list.\n"
     ]
    }
   ],
   "source": [
    "#Delete nodes and handle errors\n",
    "try:\n",
    "    ll.delete_nth_node(2)  # Delete 2nd node\n",
    "    ll.print_list()\n",
    "\n",
    "    ll.delete_nth_node(1)  # Delete head node\n",
    "    ll.print_list()\n",
    "\n",
    "    ll.delete_nth_node(5)  # Invalid index\n",
    "except IndexError as e:\n",
    "    print(\"Error:\", e)\n",
    "\n",
    "# Trying to delete from empty list\n",
    "try:\n",
    "    empty_list = LinkedList()\n",
    "    empty_list.delete_nth_node(1)\n",
    "except IndexError as e:\n",
    "    print(\"Error:\", e)"
   ]
  },
  {
   "cell_type": "code",
   "execution_count": null,
   "id": "62ab310c-8f29-4831-8361-3210651c776f",
   "metadata": {},
   "outputs": [],
   "source": []
  },
  {
   "cell_type": "code",
   "execution_count": null,
   "id": "5af1295b-6906-48a9-851f-c31c284b276d",
   "metadata": {},
   "outputs": [],
   "source": []
  },
  {
   "cell_type": "code",
   "execution_count": null,
   "id": "00464d64-3d84-4ca6-b48f-a04193a8a46a",
   "metadata": {},
   "outputs": [],
   "source": []
  },
  {
   "cell_type": "code",
   "execution_count": null,
   "id": "877cd264-7251-40b1-8368-c81a6c331f34",
   "metadata": {},
   "outputs": [],
   "source": []
  },
  {
   "cell_type": "code",
   "execution_count": null,
   "id": "3a76142d-4057-4b1a-9d53-d1902aa4c7d0",
   "metadata": {},
   "outputs": [],
   "source": []
  },
  {
   "cell_type": "code",
   "execution_count": null,
   "id": "3bd3ddb8-711b-4fe1-ba4c-78b8dbcfb137",
   "metadata": {},
   "outputs": [],
   "source": []
  }
 ],
 "metadata": {
  "kernelspec": {
   "display_name": "Python 3 (ipykernel)",
   "language": "python",
   "name": "python3"
  },
  "language_info": {
   "codemirror_mode": {
    "name": "ipython",
    "version": 3
   },
   "file_extension": ".py",
   "mimetype": "text/x-python",
   "name": "python",
   "nbconvert_exporter": "python",
   "pygments_lexer": "ipython3",
   "version": "3.12.4"
  }
 },
 "nbformat": 4,
 "nbformat_minor": 5
}
